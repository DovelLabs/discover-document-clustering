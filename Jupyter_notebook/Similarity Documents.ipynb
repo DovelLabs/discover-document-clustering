{
 "cells": [
  {
   "cell_type": "code",
   "execution_count": 2,
   "metadata": {},
   "outputs": [
    {
     "name": "stdout",
     "output_type": "stream",
     "text": [
      "Requirement already satisfied: nltk in /Users/rod/anaconda3/lib/python3.6/site-packages (3.5)\n",
      "Requirement already satisfied: joblib in /Users/rod/anaconda3/lib/python3.6/site-packages (from nltk) (0.14.1)\n",
      "Requirement already satisfied: tqdm in /Users/rod/anaconda3/lib/python3.6/site-packages (from nltk) (4.31.1)\n",
      "Requirement already satisfied: click in /Users/rod/anaconda3/lib/python3.6/site-packages (from nltk) (6.7)\n",
      "Requirement already satisfied: regex in /Users/rod/anaconda3/lib/python3.6/site-packages (from nltk) (2017.4.5)\n",
      "\u001b[33mWARNING: You are using pip version 20.0.2; however, version 20.1 is available.\n",
      "You should consider upgrading via the '/Users/rod/anaconda3/bin/python -m pip install --upgrade pip' command.\u001b[0m\n"
     ]
    }
   ],
   "source": [
    "!pip install nltk\n"
   ]
  },
  {
   "cell_type": "code",
   "execution_count": 3,
   "metadata": {},
   "outputs": [
    {
     "name": "stdout",
     "output_type": "stream",
     "text": [
      "Requirement already satisfied: gensim in /Users/rod/anaconda3/lib/python3.6/site-packages (3.7.1)\n",
      "Requirement already satisfied: smart-open>=1.7.0 in /Users/rod/anaconda3/lib/python3.6/site-packages (from gensim) (1.11.1)\n",
      "Requirement already satisfied: six>=1.5.0 in /Users/rod/anaconda3/lib/python3.6/site-packages (from gensim) (1.14.0)\n",
      "Requirement already satisfied: numpy>=1.11.3 in /Users/rod/anaconda3/lib/python3.6/site-packages (from gensim) (1.18.2)\n",
      "Requirement already satisfied: scipy>=0.18.1 in /Users/rod/anaconda3/lib/python3.6/site-packages (from gensim) (1.2.1)\n",
      "Requirement already satisfied: requests in /Users/rod/anaconda3/lib/python3.6/site-packages (from smart-open>=1.7.0->gensim) (2.21.0)\n",
      "Requirement already satisfied: boto3 in /Users/rod/anaconda3/lib/python3.6/site-packages (from smart-open>=1.7.0->gensim) (1.12.39)\n",
      "Requirement already satisfied: boto in /Users/rod/anaconda3/lib/python3.6/site-packages (from smart-open>=1.7.0->gensim) (2.48.0)\n",
      "Requirement already satisfied: chardet<3.1.0,>=3.0.2 in /Users/rod/anaconda3/lib/python3.6/site-packages (from requests->smart-open>=1.7.0->gensim) (3.0.4)\n",
      "Requirement already satisfied: certifi>=2017.4.17 in /Users/rod/anaconda3/lib/python3.6/site-packages (from requests->smart-open>=1.7.0->gensim) (2020.4.5.1)\n",
      "Requirement already satisfied: urllib3<1.25,>=1.21.1 in /Users/rod/anaconda3/lib/python3.6/site-packages (from requests->smart-open>=1.7.0->gensim) (1.24.3)\n",
      "Requirement already satisfied: idna<2.9,>=2.5 in /Users/rod/anaconda3/lib/python3.6/site-packages (from requests->smart-open>=1.7.0->gensim) (2.8)\n",
      "Requirement already satisfied: jmespath<1.0.0,>=0.7.1 in /Users/rod/anaconda3/lib/python3.6/site-packages (from boto3->smart-open>=1.7.0->gensim) (0.9.5)\n",
      "Requirement already satisfied: botocore<1.16.0,>=1.15.39 in /Users/rod/anaconda3/lib/python3.6/site-packages (from boto3->smart-open>=1.7.0->gensim) (1.15.39)\n",
      "Requirement already satisfied: s3transfer<0.4.0,>=0.3.0 in /Users/rod/anaconda3/lib/python3.6/site-packages (from boto3->smart-open>=1.7.0->gensim) (0.3.3)\n",
      "Requirement already satisfied: python-dateutil<3.0.0,>=2.1 in /Users/rod/anaconda3/lib/python3.6/site-packages (from botocore<1.16.0,>=1.15.39->boto3->smart-open>=1.7.0->gensim) (2.8.1)\n",
      "Requirement already satisfied: docutils<0.16,>=0.10 in /Users/rod/anaconda3/lib/python3.6/site-packages (from botocore<1.16.0,>=1.15.39->boto3->smart-open>=1.7.0->gensim) (0.14)\n",
      "\u001b[33mWARNING: You are using pip version 20.0.2; however, version 20.1 is available.\n",
      "You should consider upgrading via the '/Users/rod/anaconda3/bin/python -m pip install --upgrade pip' command.\u001b[0m\n"
     ]
    }
   ],
   "source": [
    "!pip install gensim"
   ]
  },
  {
   "cell_type": "markdown",
   "metadata": {},
   "source": [
    "# Tokenization of words (NLTK)\n",
    "We use the method word_tokenize() to split a sentence into words. "
   ]
  },
  {
   "cell_type": "code",
   "execution_count": 4,
   "metadata": {},
   "outputs": [
    {
     "name": "stdout",
     "output_type": "stream",
     "text": [
      "['Mars', 'is', 'approximately', 'half', 'the', 'diameter', 'of', 'Earth', '.']\n"
     ]
    }
   ],
   "source": [
    "from nltk.tokenize import word_tokenize\n",
    "\n",
    "data = \"Mars is approximately half the diameter of Earth.\"\n",
    "print(word_tokenize(data))"
   ]
  },
  {
   "cell_type": "markdown",
   "metadata": {},
   "source": [
    "# Tokenization of sentences (NLTK)\n",
    "An obvious question in your mind would be why sentence tokenization is needed when we have the option of word tokenization. \n",
    "We need to count average words per sentence, so for accomplishing such a task, we use sentence tokenization as well as words to calculate the ratio."
   ]
  },
  {
   "cell_type": "code",
   "execution_count": 5,
   "metadata": {},
   "outputs": [
    {
     "name": "stdout",
     "output_type": "stream",
     "text": [
      "['Mars is a cold desert world.', 'It is half the size of Earth.']\n"
     ]
    }
   ],
   "source": [
    "from nltk.tokenize import sent_tokenize\n",
    "\n",
    "data = \"Mars is a cold desert world. It is half the size of Earth. \"\n",
    "print(sent_tokenize(data))"
   ]
  },
  {
   "cell_type": "markdown",
   "metadata": {},
   "source": [
    "# Let's implement it in our similarity algorithm.\n",
    "\n",
    "Open file and tokenize sentences\n",
    "\n",
    "Create a .txt file and write 4-5 sentences in it. \n",
    "\n",
    "Include the file with the same directory of your Python program. \n",
    "\n",
    "Now, we are going to open this file with Python and split sentences."
   ]
  },
  {
   "cell_type": "code",
   "execution_count": 7,
   "metadata": {},
   "outputs": [
    {
     "name": "stdout",
     "output_type": "stream",
     "text": [
      "Number of documents: 5\n"
     ]
    }
   ],
   "source": [
    "import nltk\n",
    "from nltk.tokenize import word_tokenize, sent_tokenize\n",
    "\n",
    "file_docs = []\n",
    "\n",
    "with open ('similarity_demofile.txt') as f:\n",
    "    tokens = sent_tokenize(f.read())\n",
    "    for line in tokens:\n",
    "        file_docs.append(line)\n",
    "\n",
    "print(\"Number of documents:\",len(file_docs))"
   ]
  },
  {
   "cell_type": "markdown",
   "metadata": {},
   "source": [
    "# Tokenize words and create dictionary\n",
    "Once we added tokenized sentences in array, it is time to tokenize words for each sentence."
   ]
  },
  {
   "cell_type": "code",
   "execution_count": 8,
   "metadata": {
    "collapsed": true
   },
   "outputs": [],
   "source": [
    "gen_docs = [[w.lower() for w in word_tokenize(text)] \n",
    "            for text in file_docs]"
   ]
  },
  {
   "cell_type": "code",
   "execution_count": 9,
   "metadata": {},
   "outputs": [
    {
     "data": {
      "text/plain": [
       "[['short-term',\n",
       "  ',',\n",
       "  'or',\n",
       "  'even',\n",
       "  'near-real-time',\n",
       "  '(',\n",
       "  'i.e.',\n",
       "  ',',\n",
       "  'operational',\n",
       "  ')',\n",
       "  ',',\n",
       "  'situations',\n",
       "  'that',\n",
       "  'often',\n",
       "  'are',\n",
       "  'associated',\n",
       "  'with',\n",
       "  'customer',\n",
       "  'service',\n",
       "  'and',\n",
       "  'real-time',\n",
       "  'customer',\n",
       "  'interaction',\n",
       "  '.'],\n",
       " ['high-level',\n",
       "  'trends',\n",
       "  '(',\n",
       "  'i.e.',\n",
       "  ',',\n",
       "  'more',\n",
       "  'tactical',\n",
       "  ')',\n",
       "  'that',\n",
       "  'drive',\n",
       "  'longer',\n",
       "  'cycle',\n",
       "  'decisions',\n",
       "  ',',\n",
       "  'such',\n",
       "  'as',\n",
       "  'changes',\n",
       "  'in',\n",
       "  'inflation',\n",
       "  'or',\n",
       "  'interest',\n",
       "  'rates',\n",
       "  'that',\n",
       "  'affect',\n",
       "  'investment',\n",
       "  'decisions',\n",
       "  '.'],\n",
       " ['threats',\n",
       "  'and',\n",
       "  'opportunities',\n",
       "  'such',\n",
       "  'as',\n",
       "  'regulatory',\n",
       "  'and',\n",
       "  'legal',\n",
       "  'changes',\n",
       "  '(',\n",
       "  'e.g.',\n",
       "  ',',\n",
       "  'brexit',\n",
       "  ')',\n",
       "  'or',\n",
       "  'actions',\n",
       "  'by',\n",
       "  'competitors',\n",
       "  '.'],\n",
       " ['random',\n",
       "  'external',\n",
       "  'events',\n",
       "  ',',\n",
       "  'which',\n",
       "  'can',\n",
       "  'be',\n",
       "  'rare',\n",
       "  'or',\n",
       "  'frequent',\n",
       "  ',',\n",
       "  'such',\n",
       "  'as',\n",
       "  'weather-related',\n",
       "  'disruptions',\n",
       "  '.'],\n",
       " ['periodic',\n",
       "  'or',\n",
       "  'cyclical',\n",
       "  'events',\n",
       "  ',',\n",
       "  'such',\n",
       "  'as',\n",
       "  'those',\n",
       "  'related',\n",
       "  'to',\n",
       "  'aging',\n",
       "  'infrastructure',\n",
       "  ',',\n",
       "  'which',\n",
       "  'may',\n",
       "  'warrant',\n",
       "  'a',\n",
       "  'series',\n",
       "  'of',\n",
       "  'responses',\n",
       "  'over',\n",
       "  'time',\n",
       "  '.']]"
      ]
     },
     "execution_count": 9,
     "metadata": {},
     "output_type": "execute_result"
    }
   ],
   "source": [
    "gen_docs"
   ]
  },
  {
   "cell_type": "markdown",
   "metadata": {},
   "source": [
    "### A dictionary maps every word to a number. Gensim lets you read the text and update the dictionary, one line at a time, without loading the entire text file into system memory."
   ]
  },
  {
   "cell_type": "code",
   "execution_count": 11,
   "metadata": {},
   "outputs": [
    {
     "name": "stderr",
     "output_type": "stream",
     "text": [
      "unable to import 'smart_open.gcs', disabling that module\n"
     ]
    },
    {
     "name": "stdout",
     "output_type": "stream",
     "text": [
      "{'(': 0, ')': 1, ',': 2, '.': 3, 'and': 4, 'are': 5, 'associated': 6, 'customer': 7, 'even': 8, 'i.e.': 9, 'interaction': 10, 'near-real-time': 11, 'often': 12, 'operational': 13, 'or': 14, 'real-time': 15, 'service': 16, 'short-term': 17, 'situations': 18, 'that': 19, 'with': 20, 'affect': 21, 'as': 22, 'changes': 23, 'cycle': 24, 'decisions': 25, 'drive': 26, 'high-level': 27, 'in': 28, 'inflation': 29, 'interest': 30, 'investment': 31, 'longer': 32, 'more': 33, 'rates': 34, 'such': 35, 'tactical': 36, 'trends': 37, 'actions': 38, 'brexit': 39, 'by': 40, 'competitors': 41, 'e.g.': 42, 'legal': 43, 'opportunities': 44, 'regulatory': 45, 'threats': 46, 'be': 47, 'can': 48, 'disruptions': 49, 'events': 50, 'external': 51, 'frequent': 52, 'random': 53, 'rare': 54, 'weather-related': 55, 'which': 56, 'a': 57, 'aging': 58, 'cyclical': 59, 'infrastructure': 60, 'may': 61, 'of': 62, 'over': 63, 'periodic': 64, 'related': 65, 'responses': 66, 'series': 67, 'those': 68, 'time': 69, 'to': 70, 'warrant': 71}\n"
     ]
    }
   ],
   "source": [
    "import gensim\n",
    "dictionary = gensim.corpora.Dictionary(gen_docs)\n",
    "print(dictionary.token2id)"
   ]
  },
  {
   "cell_type": "markdown",
   "metadata": {},
   "source": [
    "# Create a bag of words\n",
    "The next important object you need to familiarize with in order to work in gensim is the Corpus (a Bag of Words). It is a basically object that contains the word id and its frequency in each document (just lists the number of times each word occurs in the sentence).\n",
    "\n",
    "Note that, a ‘token’ typically means a ‘word’. A ‘document’ can typically refer to a ‘sentence’ or ‘paragraph’ and a ‘corpus’ is typically a ‘collection of documents as a bag of words’.\n",
    "\n",
    "Now, create a bag of words corpus and pass the tokenized list of words to the Dictionary.doc2bow()"
   ]
  },
  {
   "cell_type": "code",
   "execution_count": 12,
   "metadata": {
    "collapsed": true
   },
   "outputs": [],
   "source": [
    "corpus = [dictionary.doc2bow(gen_doc) for gen_doc in gen_docs]"
   ]
  },
  {
   "cell_type": "code",
   "execution_count": 13,
   "metadata": {},
   "outputs": [
    {
     "data": {
      "text/plain": [
       "[[(0, 1),\n",
       "  (1, 1),\n",
       "  (2, 3),\n",
       "  (3, 1),\n",
       "  (4, 1),\n",
       "  (5, 1),\n",
       "  (6, 1),\n",
       "  (7, 2),\n",
       "  (8, 1),\n",
       "  (9, 1),\n",
       "  (10, 1),\n",
       "  (11, 1),\n",
       "  (12, 1),\n",
       "  (13, 1),\n",
       "  (14, 1),\n",
       "  (15, 1),\n",
       "  (16, 1),\n",
       "  (17, 1),\n",
       "  (18, 1),\n",
       "  (19, 1),\n",
       "  (20, 1)],\n",
       " [(0, 1),\n",
       "  (1, 1),\n",
       "  (2, 2),\n",
       "  (3, 1),\n",
       "  (9, 1),\n",
       "  (14, 1),\n",
       "  (19, 2),\n",
       "  (21, 1),\n",
       "  (22, 1),\n",
       "  (23, 1),\n",
       "  (24, 1),\n",
       "  (25, 2),\n",
       "  (26, 1),\n",
       "  (27, 1),\n",
       "  (28, 1),\n",
       "  (29, 1),\n",
       "  (30, 1),\n",
       "  (31, 1),\n",
       "  (32, 1),\n",
       "  (33, 1),\n",
       "  (34, 1),\n",
       "  (35, 1),\n",
       "  (36, 1),\n",
       "  (37, 1)],\n",
       " [(0, 1),\n",
       "  (1, 1),\n",
       "  (2, 1),\n",
       "  (3, 1),\n",
       "  (4, 2),\n",
       "  (14, 1),\n",
       "  (22, 1),\n",
       "  (23, 1),\n",
       "  (35, 1),\n",
       "  (38, 1),\n",
       "  (39, 1),\n",
       "  (40, 1),\n",
       "  (41, 1),\n",
       "  (42, 1),\n",
       "  (43, 1),\n",
       "  (44, 1),\n",
       "  (45, 1),\n",
       "  (46, 1)],\n",
       " [(2, 2),\n",
       "  (3, 1),\n",
       "  (14, 1),\n",
       "  (22, 1),\n",
       "  (35, 1),\n",
       "  (47, 1),\n",
       "  (48, 1),\n",
       "  (49, 1),\n",
       "  (50, 1),\n",
       "  (51, 1),\n",
       "  (52, 1),\n",
       "  (53, 1),\n",
       "  (54, 1),\n",
       "  (55, 1),\n",
       "  (56, 1)],\n",
       " [(2, 2),\n",
       "  (3, 1),\n",
       "  (14, 1),\n",
       "  (22, 1),\n",
       "  (35, 1),\n",
       "  (50, 1),\n",
       "  (56, 1),\n",
       "  (57, 1),\n",
       "  (58, 1),\n",
       "  (59, 1),\n",
       "  (60, 1),\n",
       "  (61, 1),\n",
       "  (62, 1),\n",
       "  (63, 1),\n",
       "  (64, 1),\n",
       "  (65, 1),\n",
       "  (66, 1),\n",
       "  (67, 1),\n",
       "  (68, 1),\n",
       "  (69, 1),\n",
       "  (70, 1),\n",
       "  (71, 1)]]"
      ]
     },
     "execution_count": 13,
     "metadata": {},
     "output_type": "execute_result"
    }
   ],
   "source": [
    "corpus"
   ]
  },
  {
   "cell_type": "markdown",
   "metadata": {},
   "source": [
    "# TFIDF\n",
    "Term Frequency – Inverse Document Frequency(TF-IDF) is also a bag-of-words model but unlike the regular corpus, TFIDF down weights tokens (words) that appears frequently across documents.\n",
    "\n",
    "Tf-Idf is calculated by multiplying a local component (TF) with a global component (IDF) and optionally normalizing the result to unit length. Term frequency is how often the word shows up in the document and inverse document frequency scales the value by how rare the word is in the corpus. In simple terms, words that occur more frequently across the documents get smaller weights."
   ]
  },
  {
   "cell_type": "code",
   "execution_count": 16,
   "metadata": {},
   "outputs": [
    {
     "name": "stdout",
     "output_type": "stream",
     "text": [
      "[['(', 0.08], [')', 0.08], ['and', 0.14], ['are', 0.24], ['associated', 0.24], ['customer', 0.48], ['even', 0.24], ['i.e.', 0.14], ['interaction', 0.24], ['near-real-time', 0.24], ['often', 0.24], ['operational', 0.24], ['real-time', 0.24], ['service', 0.24], ['short-term', 0.24], ['situations', 0.24], ['that', 0.14], ['with', 0.24]]\n",
      "[['(', 0.07], [')', 0.07], ['i.e.', 0.13], ['that', 0.26], ['affect', 0.23], ['as', 0.03], ['changes', 0.13], ['cycle', 0.23], ['decisions', 0.46], ['drive', 0.23], ['high-level', 0.23], ['in', 0.23], ['inflation', 0.23], ['interest', 0.23], ['investment', 0.23], ['longer', 0.23], ['more', 0.23], ['rates', 0.23], ['such', 0.03], ['tactical', 0.23], ['trends', 0.23]]\n",
      "[['(', 0.1], [')', 0.1], ['and', 0.35], ['as', 0.04], ['changes', 0.17], ['such', 0.04], ['actions', 0.3], ['brexit', 0.3], ['by', 0.3], ['competitors', 0.3], ['e.g.', 0.3], ['legal', 0.3], ['opportunities', 0.3], ['regulatory', 0.3], ['threats', 0.3]]\n",
      "[['as', 0.05], ['such', 0.05], ['be', 0.34], ['can', 0.34], ['disruptions', 0.34], ['events', 0.19], ['external', 0.34], ['frequent', 0.34], ['random', 0.34], ['rare', 0.34], ['weather-related', 0.34], ['which', 0.19]]\n",
      "[['as', 0.04], ['such', 0.04], ['events', 0.14], ['which', 0.14], ['a', 0.25], ['aging', 0.25], ['cyclical', 0.25], ['infrastructure', 0.25], ['may', 0.25], ['of', 0.25], ['over', 0.25], ['periodic', 0.25], ['related', 0.25], ['responses', 0.25], ['series', 0.25], ['those', 0.25], ['time', 0.25], ['to', 0.25], ['warrant', 0.25]]\n"
     ]
    }
   ],
   "source": [
    "import numpy as np\n",
    "tf_idf = gensim.models.TfidfModel(corpus)\n",
    "for doc in tf_idf[corpus]:\n",
    "    print([[dictionary[id], np.around(freq, decimals=2)] for id, freq in doc])"
   ]
  },
  {
   "cell_type": "markdown",
   "metadata": {},
   "source": [
    "\n",
    "# Creating similarity measure object\n",
    "Now, we are going to create similarity object. \n",
    "\n",
    "The main class is Similarity, which builds an index for a given set of documents.\n",
    "\n",
    "The Similarity class splits the index into several smaller sub-indexes, which are disk-based. \n",
    "\n",
    "Let's just create similarity object then you will understand how we can use it for comparing.\n",
    "\n",
    "We are storing index matrix in 'workdir' directory but you can name it whatever you want and of course you have to create it with same directory of your program."
   ]
  },
  {
   "cell_type": "code",
   "execution_count": 25,
   "metadata": {},
   "outputs": [],
   "source": [
    "# building the index\n",
    "\n",
    "from gensim.test.utils import common_corpus, common_dictionary, get_tmpfile\n",
    "\n",
    "index_tmpfile = get_tmpfile(\"wordindex\")\n",
    "sims = gensim.similarities.Similarity(index_tmpfile,tf_idf[corpus],\n",
    "                                        num_features=len(dictionary))"
   ]
  },
  {
   "cell_type": "code",
   "execution_count": null,
   "metadata": {
    "collapsed": true
   },
   "outputs": [],
   "source": []
  },
  {
   "cell_type": "markdown",
   "metadata": {},
   "source": [
    "### Create Query Document\n",
    "Once the index is built, we are going to calculate how similar is this query document to each document in the index. So, create second .txt file which will include query documents or sentences and tokenize them as we did before."
   ]
  },
  {
   "cell_type": "code",
   "execution_count": 26,
   "metadata": {},
   "outputs": [
    {
     "name": "stdout",
     "output_type": "stream",
     "text": [
      "Number of documents: 2\n"
     ]
    }
   ],
   "source": [
    "file2_docs = []\n",
    "\n",
    "with open ('similarity_demofile2.txt') as f:\n",
    "    tokens = sent_tokenize(f.read())\n",
    "    for line in tokens:\n",
    "        file2_docs.append(line)\n",
    "\n",
    "print(\"Number of documents:\",len(file2_docs))  \n",
    "\n",
    "#update an existing dictionary and create bag of words\n",
    "for line in file2_docs:\n",
    "    query_doc = [w.lower() for w in word_tokenize(line)]\n",
    "    query_doc_bow = dictionary.doc2bow(query_doc) \n",
    "    "
   ]
  },
  {
   "cell_type": "code",
   "execution_count": null,
   "metadata": {
    "collapsed": true
   },
   "outputs": [],
   "source": []
  },
  {
   "cell_type": "markdown",
   "metadata": {},
   "source": [
    "## Document similarities to query \n",
    "\n",
    "At this stage, you will see similarities between the query and all index documents. \n",
    "\n",
    "To obtain similarities of our query document against the indexed documents:"
   ]
  },
  {
   "cell_type": "code",
   "execution_count": 29,
   "metadata": {},
   "outputs": [
    {
     "name": "stdout",
     "output_type": "stream",
     "text": [
      "Comparing Result: [0.         0.         0.11468977 0.12823999 0.28629014]\n"
     ]
    },
    {
     "name": "stderr",
     "output_type": "stream",
     "text": [
      "/Users/rod/anaconda3/lib/python3.6/site-packages/gensim/similarities/docsim.py:528: FutureWarning: arrays to stack must be passed as a \"sequence\" type such as list or tuple. Support for non-sequence iterables such as generators is deprecated as of NumPy 1.16 and will raise an error in the future.\n",
      "  result = numpy.hstack(shard_results)\n"
     ]
    }
   ],
   "source": [
    "# perform a similarity query against the corpus\n",
    "query_doc_tf_idf = tf_idf[query_doc_bow]\n",
    "\n",
    "# print(document_number, document_similarity)\n",
    "# Cosine measure returns similarities in the range (the greater, the more similar).\n",
    "print('Comparing Result:', sims[query_doc_tf_idf]) "
   ]
  },
  {
   "cell_type": "code",
   "execution_count": null,
   "metadata": {
    "collapsed": true
   },
   "outputs": [],
   "source": []
  },
  {
   "cell_type": "code",
   "execution_count": null,
   "metadata": {
    "collapsed": true
   },
   "outputs": [],
   "source": []
  },
  {
   "cell_type": "markdown",
   "metadata": {},
   "source": [
    "# Average Similarity\n",
    "What's next? I think it is better to calculate average similarity of query document. \n",
    "\n",
    "At this time, we are going to import numpy to calculate sum of these similarity outputs."
   ]
  },
  {
   "cell_type": "code",
   "execution_count": 30,
   "metadata": {},
   "outputs": [
    {
     "name": "stdout",
     "output_type": "stream",
     "text": [
      "0.52921987\n"
     ]
    },
    {
     "name": "stderr",
     "output_type": "stream",
     "text": [
      "/Users/rod/anaconda3/lib/python3.6/site-packages/gensim/similarities/docsim.py:528: FutureWarning: arrays to stack must be passed as a \"sequence\" type such as list or tuple. Support for non-sequence iterables such as generators is deprecated as of NumPy 1.16 and will raise an error in the future.\n",
      "  result = numpy.hstack(shard_results)\n"
     ]
    }
   ],
   "source": [
    "import numpy as np\n",
    "\n",
    "sum_of_sims =(np.sum(sims[query_doc_tf_idf], dtype=np.float32))\n",
    "print(sum_of_sims)\n"
   ]
  },
  {
   "cell_type": "raw",
   "metadata": {},
   "source": [
    "To calculate average similarity we have to divide this value with count of documents"
   ]
  },
  {
   "cell_type": "code",
   "execution_count": 31,
   "metadata": {},
   "outputs": [
    {
     "name": "stdout",
     "output_type": "stream",
     "text": [
      "Average similarity float: 0.10584397315979004\n",
      "Average similarity percentage: 10.584397315979004\n",
      "Average similarity rounded percentage: 11\n"
     ]
    }
   ],
   "source": [
    "percentage_of_similarity = round(float((sum_of_sims / len(file_docs)) * 100))\n",
    "print(f'Average similarity float: {float(sum_of_sims / len(file_docs))}')\n",
    "print(f'Average similarity percentage: {float(sum_of_sims / len(file_docs)) * 100}')\n",
    "print(f'Average similarity rounded percentage: {percentage_of_similarity}')"
   ]
  },
  {
   "cell_type": "code",
   "execution_count": 34,
   "metadata": {},
   "outputs": [
    {
     "name": "stdout",
     "output_type": "stream",
     "text": [
      "Comparing Result: [0.06598131 0.09630069 0.29393423 0.04638713 0.2475149 ]\n",
      "avg: 0.15002365112304689\n",
      "Comparing Result: [0.         0.         0.11468977 0.12823999 0.28629014]\n",
      "avg: 0.10584397315979004\n"
     ]
    },
    {
     "name": "stderr",
     "output_type": "stream",
     "text": [
      "/Users/rod/anaconda3/lib/python3.6/site-packages/gensim/similarities/docsim.py:528: FutureWarning: arrays to stack must be passed as a \"sequence\" type such as list or tuple. Support for non-sequence iterables such as generators is deprecated as of NumPy 1.16 and will raise an error in the future.\n",
      "  result = numpy.hstack(shard_results)\n"
     ]
    }
   ],
   "source": [
    "avg_sims = [] # array of averages\n",
    "\n",
    "# for line in query documents\n",
    "for line in file2_docs:\n",
    "        # tokenize words\n",
    "        query_doc = [w.lower() for w in word_tokenize(line)]\n",
    "        # create bag of words\n",
    "        query_doc_bow = dictionary.doc2bow(query_doc)\n",
    "        # find similarity for each document\n",
    "        query_doc_tf_idf = tf_idf[query_doc_bow]\n",
    "        # print (document_number, document_similarity)\n",
    "        print('Comparing Result:', sims[query_doc_tf_idf]) \n",
    "        # calculate sum of similarities for each query doc\n",
    "        sum_of_sims =(np.sum(sims[query_doc_tf_idf], dtype=np.float32))\n",
    "        # calculate average of similarity for each query doc\n",
    "        avg = sum_of_sims / len(file_docs)\n",
    "        # print average of similarity for each query doc\n",
    "        print(f'avg: {sum_of_sims / len(file_docs)}')\n",
    "        # add average values into array\n",
    "        avg_sims.append(avg)  \n",
    "        \n",
    "# calculate total average\n",
    "total_avg = np.sum(avg_sims, dtype=np.float)\n",
    "total_avg = ((np.sum(avg_sims, dtype=np.float)) / len(file2_docs))\n",
    "\n",
    "# round the value and multiply by 100 to format it as percentage\n",
    "percentage_of_similarity = round(float(total_avg) * 100)\n",
    "\n",
    "# if percentage is greater than 100\n",
    "# that means documents are almost same\n",
    "if percentage_of_similarity >= 100:\n",
    "    percentage_of_similarity = 100"
   ]
  },
  {
   "cell_type": "code",
   "execution_count": null,
   "metadata": {
    "collapsed": true
   },
   "outputs": [],
   "source": []
  },
  {
   "cell_type": "code",
   "execution_count": null,
   "metadata": {
    "collapsed": true
   },
   "outputs": [],
   "source": []
  },
  {
   "cell_type": "code",
   "execution_count": null,
   "metadata": {
    "collapsed": true
   },
   "outputs": [],
   "source": []
  },
  {
   "cell_type": "code",
   "execution_count": null,
   "metadata": {
    "collapsed": true
   },
   "outputs": [],
   "source": []
  },
  {
   "cell_type": "code",
   "execution_count": null,
   "metadata": {
    "collapsed": true
   },
   "outputs": [],
   "source": []
  },
  {
   "cell_type": "code",
   "execution_count": null,
   "metadata": {
    "collapsed": true
   },
   "outputs": [],
   "source": []
  },
  {
   "cell_type": "code",
   "execution_count": null,
   "metadata": {
    "collapsed": true
   },
   "outputs": [],
   "source": []
  },
  {
   "cell_type": "code",
   "execution_count": null,
   "metadata": {
    "collapsed": true
   },
   "outputs": [],
   "source": []
  },
  {
   "cell_type": "code",
   "execution_count": null,
   "metadata": {
    "collapsed": true
   },
   "outputs": [],
   "source": []
  },
  {
   "cell_type": "code",
   "execution_count": null,
   "metadata": {
    "collapsed": true
   },
   "outputs": [],
   "source": []
  },
  {
   "cell_type": "code",
   "execution_count": null,
   "metadata": {
    "collapsed": true
   },
   "outputs": [],
   "source": []
  },
  {
   "cell_type": "code",
   "execution_count": null,
   "metadata": {
    "collapsed": true
   },
   "outputs": [],
   "source": []
  },
  {
   "cell_type": "code",
   "execution_count": null,
   "metadata": {
    "collapsed": true
   },
   "outputs": [],
   "source": []
  },
  {
   "cell_type": "code",
   "execution_count": null,
   "metadata": {
    "collapsed": true
   },
   "outputs": [],
   "source": []
  },
  {
   "cell_type": "code",
   "execution_count": null,
   "metadata": {
    "collapsed": true
   },
   "outputs": [],
   "source": []
  },
  {
   "cell_type": "code",
   "execution_count": null,
   "metadata": {
    "collapsed": true
   },
   "outputs": [],
   "source": []
  },
  {
   "cell_type": "code",
   "execution_count": null,
   "metadata": {
    "collapsed": true
   },
   "outputs": [],
   "source": []
  },
  {
   "cell_type": "code",
   "execution_count": null,
   "metadata": {
    "collapsed": true
   },
   "outputs": [],
   "source": []
  },
  {
   "cell_type": "code",
   "execution_count": null,
   "metadata": {
    "collapsed": true
   },
   "outputs": [],
   "source": []
  }
 ],
 "metadata": {
  "kernelspec": {
   "display_name": "Python 3",
   "language": "python",
   "name": "python3"
  },
  "language_info": {
   "codemirror_mode": {
    "name": "ipython",
    "version": 3
   },
   "file_extension": ".py",
   "mimetype": "text/x-python",
   "name": "python",
   "nbconvert_exporter": "python",
   "pygments_lexer": "ipython3",
   "version": "3.6.8"
  }
 },
 "nbformat": 4,
 "nbformat_minor": 2
}
